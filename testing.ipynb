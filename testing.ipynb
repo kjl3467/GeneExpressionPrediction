{
  "cells": [
    {
      "cell_type": "markdown",
      "metadata": {
        "id": "view-in-github",
        "colab_type": "text"
      },
      "source": [
        "<a href=\"https://colab.research.google.com/github/kjl3467/GeneExpressionPrediction/blob/main/testing.ipynb\" target=\"_parent\"><img src=\"https://colab.research.google.com/assets/colab-badge.svg\" alt=\"Open In Colab\"/></a>"
      ]
    },
    {
      "cell_type": "code",
      "execution_count": null,
      "metadata": {
        "colab": {
          "base_uri": "https://localhost:8080/"
        },
        "id": "oqpukHljvh4j",
        "outputId": "5c1c07d2-94e1-452c-bf1e-057c36293b45"
      },
      "outputs": [
        {
          "output_type": "stream",
          "name": "stdout",
          "text": [
            "Mounted at /content/drive\n",
            "['matrix_main.mtx', 'matrix_early.mtx', 'metadata_early.tsv', 'metadata_main.tsv', 'features.tsv', 'Transcriptional programs of circuit assembly in the Drosophila visual system.pdf', 'Transcriptional programs of circuit assembly in the Drosophila visual system Visuals.pdf', 'boruta_py.py', 'TF_List.csv', 'CAM_List.csv', '__pycache__', 'xgb_random_search_results.csv', 'Gene_Causality.py', 'testing.ipynb']\n"
          ]
        }
      ],
      "source": [
        "from google.colab import drive\n",
        "drive.mount('/content/drive')\n",
        "import os\n",
        "\n",
        "\n",
        "# TODO: Fill in the Google Drive path where you uploaded the assignment\n",
        "# Example: If you create a 2022WI folder and put all the files under A3 folder, then '2022WI/A3'\n",
        "GOOGLE_DRIVE_PATH_AFTER_MYDRIVE = 'GeneCausality Search'\n",
        "GOOGLE_DRIVE_PATH = os.path.join('drive', 'My Drive', GOOGLE_DRIVE_PATH_AFTER_MYDRIVE)\n",
        "print(os.listdir(GOOGLE_DRIVE_PATH))\n",
        "import sys\n",
        "sys.path.append(GOOGLE_DRIVE_PATH)"
      ]
    },
    {
      "cell_type": "code",
      "execution_count": null,
      "metadata": {
        "colab": {
          "base_uri": "https://localhost:8080/"
        },
        "id": "I6sEmRLfwYQX",
        "outputId": "2f8a670a-435e-414c-9117-48cc725e41cb"
      },
      "outputs": [
        {
          "output_type": "stream",
          "name": "stdout",
          "text": [
            "Collecting boruta\n",
            "  Downloading Boruta-0.3-py3-none-any.whl (56 kB)\n",
            "\u001b[?25l     \u001b[90m━━━━━━━━━━━━━━━━━━━━━━━━━━━━━━━━━━━━━━━━\u001b[0m \u001b[32m0.0/56.6 kB\u001b[0m \u001b[31m?\u001b[0m eta \u001b[36m-:--:--\u001b[0m\r\u001b[2K     \u001b[90m━━━━━━━━━━━━━━━━━━━━━━━━━━━━━━━━━━━━━━━━\u001b[0m \u001b[32m56.6/56.6 kB\u001b[0m \u001b[31m2.5 MB/s\u001b[0m eta \u001b[36m0:00:00\u001b[0m\n",
            "\u001b[?25hRequirement already satisfied: numpy>=1.10.4 in /usr/local/lib/python3.10/dist-packages (from boruta) (1.25.2)\n",
            "Requirement already satisfied: scikit-learn>=0.17.1 in /usr/local/lib/python3.10/dist-packages (from boruta) (1.2.2)\n",
            "Requirement already satisfied: scipy>=0.17.0 in /usr/local/lib/python3.10/dist-packages (from boruta) (1.11.4)\n",
            "Requirement already satisfied: joblib>=1.1.1 in /usr/local/lib/python3.10/dist-packages (from scikit-learn>=0.17.1->boruta) (1.3.2)\n",
            "Requirement already satisfied: threadpoolctl>=2.0.0 in /usr/local/lib/python3.10/dist-packages (from scikit-learn>=0.17.1->boruta) (3.3.0)\n",
            "Installing collected packages: boruta\n",
            "Successfully installed boruta-0.3\n"
          ]
        }
      ],
      "source": [
        "!pip install boruta"
      ]
    },
    {
      "cell_type": "code",
      "execution_count": null,
      "metadata": {
        "id": "PAF551Qzv2d4"
      },
      "outputs": [],
      "source": [
        "import pandas as pd\n",
        "from Gene_Causality import GeneCasuality_Search\n",
        "import numpy as np\n",
        "import matplotlib.pyplot as plt"
      ]
    },
    {
      "cell_type": "code",
      "execution_count": null,
      "metadata": {
        "id": "fU_qa8aJvh4n"
      },
      "outputs": [],
      "source": [
        "search = GeneCasuality_Search()"
      ]
    },
    {
      "cell_type": "markdown",
      "metadata": {
        "id": "xRcu5etovh4o"
      },
      "source": [
        "Look at DIP-delta , DIP-eta\n",
        "1.Subset to jsut neurons\n",
        "\n",
        "2. Cell type, Look at just one type\n",
        "3. `Try LPLC1. LPLC2 as type\n",
        "    Keep at 48 hr\n",
        "\n",
        "4. Make github. Aggregate them all in one place\n",
        "5. Pull out best 'gene' and upload"
      ]
    },
    {
      "cell_type": "code",
      "execution_count": null,
      "metadata": {
        "id": "p-c91ZVhvh4p"
      },
      "outputs": [],
      "source": [
        "\n",
        "\n",
        "search.read_genomic_data('/content/drive/MyDrive/GeneCausality Search/matrix_early.mtx','/content/drive/MyDrive/GeneCausality Search/matrix_main.mtx')\n",
        "search.read_metadata('/content/drive/MyDrive/GeneCausality Search/metadata_early.tsv','/content/drive/MyDrive/GeneCausality Search/metadata_main.tsv','/content/drive/MyDrive/GeneCausality Search/features.tsv')\n",
        "search.read_genes('/content/drive/MyDrive/GeneCausality Search/features.tsv')"
      ]
    },
    {
      "cell_type": "code",
      "execution_count": null,
      "metadata": {
        "id": "l5_Bqaqtvh4q"
      },
      "outputs": [],
      "source": [
        "search.read_master_genes('/content/drive/MyDrive/GeneCausality Search/TF_List.csv','/content/drive/MyDrive/GeneCausality Search/CAM_List.csv')"
      ]
    },
    {
      "cell_type": "code",
      "execution_count": null,
      "metadata": {
        "colab": {
          "base_uri": "https://localhost:8080/"
        },
        "id": "tz1hQh8XumLS",
        "outputId": "b72d95b6-1cc6-47cd-e877-4721ff447de4"
      },
      "outputs": [
        {
          "output_type": "execute_result",
          "data": {
            "text/plain": [
              "<113x17561 sparse matrix of type '<class 'numpy.int8'>'\n",
              "\twith 304567 stored elements in Compressed Sparse Row format>"
            ]
          },
          "metadata": {},
          "execution_count": 64
        }
      ],
      "source": [
        "search.working_data"
      ]
    },
    {
      "cell_type": "code",
      "execution_count": null,
      "metadata": {
        "id": "2SZkq9Ntvh4r"
      },
      "outputs": [],
      "source": [
        "search.subset_tf_cam()"
      ]
    },
    {
      "cell_type": "code",
      "execution_count": null,
      "metadata": {
        "id": "AHPoJ9UH2Jmk"
      },
      "outputs": [],
      "source": [
        "checking_dict={}"
      ]
    },
    {
      "cell_type": "code",
      "execution_count": null,
      "metadata": {
        "id": "4BBRUpU4vh4r"
      },
      "outputs": [],
      "source": [
        "params = {\n",
        "    'gamma': 0.15,\n",
        "    'min_child_weight': 1,\n",
        "    'max_depth': 14,\n",
        "    'subsample': 0.8,\n",
        "    'colsample_bytree': 0.69,\n",
        "    'learning_rate': 0.2,\n",
        "    'verbosity':2,\n",
        "    'tree_method': 'hist',\n",
        "\n",
        "    'n_estimators': 100,\n",
        "    'device': 'cuda',\n",
        "    'objective': 'reg:squarederror',  # Example for binary classification task\n",
        "    'eval_metric': 'mae'  # Example for binary classification task\n",
        "}\n"
      ]
    },
    {
      "cell_type": "code",
      "execution_count": null,
      "metadata": {
        "colab": {
          "base_uri": "https://localhost:8080/"
        },
        "id": "wBbcP1GfCYYV",
        "outputId": "d293d3d0-f582-41a7-cfa9-96ea013e7ab2"
      },
      "outputs": [
        {
          "output_type": "stream",
          "name": "stderr",
          "text": [
            "/usr/local/lib/python3.10/dist-packages/xgboost/core.py:160: UserWarning: [15:16:19] WARNING: /workspace/src/learner.cc:742: \n",
            "Parameters: { \"n_estimators\" } are not used.\n",
            "\n",
            "  warnings.warn(smsg, UserWarning)\n"
          ]
        },
        {
          "output_type": "stream",
          "name": "stdout",
          "text": [
            "[15:16:20] INFO: /workspace/src/data/simple_dmatrix.cc:137: Generating new Ellpack page.\n"
          ]
        }
      ],
      "source": [
        "search.train_model(0.01,params)\n"
      ]
    },
    {
      "cell_type": "code",
      "source": [],
      "metadata": {
        "id": "K8hxT4xQXPRd"
      },
      "execution_count": null,
      "outputs": []
    },
    {
      "cell_type": "code",
      "execution_count": null,
      "metadata": {
        "colab": {
          "base_uri": "https://localhost:8080/",
          "height": 280
        },
        "id": "fWrdrG9n2oCu",
        "outputId": "a70041ad-6d78-42aa-f79c-4ebf168fd5b5"
      },
      "outputs": [
        {
          "output_type": "error",
          "ename": "AttributeError",
          "evalue": "'NoneType' object has no attribute 'predict'",
          "traceback": [
            "\u001b[0;31m---------------------------------------------------------------------------\u001b[0m",
            "\u001b[0;31mAttributeError\u001b[0m                            Traceback (most recent call last)",
            "\u001b[0;32m<ipython-input-63-c6fad8ad1850>\u001b[0m in \u001b[0;36m<cell line: 1>\u001b[0;34m()\u001b[0m\n\u001b[0;32m----> 1\u001b[0;31m \u001b[0mchecking_dict\u001b[0m\u001b[0;34m[\u001b[0m\u001b[0mparams\u001b[0m\u001b[0;34m.\u001b[0m\u001b[0mvalues\u001b[0m\u001b[0;34m]\u001b[0m \u001b[0;34m=\u001b[0m \u001b[0msearch\u001b[0m\u001b[0;34m.\u001b[0m\u001b[0mevaluate_performance\u001b[0m\u001b[0;34m(\u001b[0m\u001b[0;34m)\u001b[0m\u001b[0;34m[\u001b[0m\u001b[0;36m0\u001b[0m\u001b[0;34m]\u001b[0m\u001b[0;34m\u001b[0m\u001b[0;34m\u001b[0m\u001b[0m\n\u001b[0m\u001b[1;32m      2\u001b[0m \u001b[0mchecking_dict\u001b[0m\u001b[0;34m[\u001b[0m\u001b[0mparams\u001b[0m\u001b[0;34m.\u001b[0m\u001b[0mvalues\u001b[0m\u001b[0;34m]\u001b[0m\u001b[0;34m\u001b[0m\u001b[0;34m\u001b[0m\u001b[0m\n",
            "\u001b[0;32m/content/drive/My Drive/GeneCausality Search/Gene_Causality.py\u001b[0m in \u001b[0;36mevaluate_performance\u001b[0;34m(self)\u001b[0m\n\u001b[1;32m    111\u001b[0m \u001b[0;34m\u001b[0m\u001b[0m\n\u001b[1;32m    112\u001b[0m     \u001b[0;32mdef\u001b[0m \u001b[0mevaluate_performance\u001b[0m\u001b[0;34m(\u001b[0m\u001b[0mself\u001b[0m\u001b[0;34m)\u001b[0m\u001b[0;34m:\u001b[0m\u001b[0;34m\u001b[0m\u001b[0;34m\u001b[0m\u001b[0m\n\u001b[0;32m--> 113\u001b[0;31m         \u001b[0mpreds\u001b[0m \u001b[0;34m=\u001b[0m \u001b[0mself\u001b[0m\u001b[0;34m.\u001b[0m\u001b[0mtrained_model\u001b[0m\u001b[0;34m.\u001b[0m\u001b[0mpredict\u001b[0m\u001b[0;34m(\u001b[0m\u001b[0mself\u001b[0m\u001b[0;34m.\u001b[0m\u001b[0mtest\u001b[0m\u001b[0;34m[\u001b[0m\u001b[0;36m0\u001b[0m\u001b[0;34m]\u001b[0m\u001b[0;34m)\u001b[0m\u001b[0;34m\u001b[0m\u001b[0;34m\u001b[0m\u001b[0m\n\u001b[0m\u001b[1;32m    114\u001b[0m         \u001b[0moverall_performance\u001b[0m \u001b[0;34m=\u001b[0m \u001b[0mnp\u001b[0m\u001b[0;34m.\u001b[0m\u001b[0mmean\u001b[0m\u001b[0;34m(\u001b[0m\u001b[0mnp\u001b[0m\u001b[0;34m.\u001b[0m\u001b[0mabs\u001b[0m\u001b[0;34m(\u001b[0m\u001b[0mself\u001b[0m\u001b[0;34m.\u001b[0m\u001b[0mtest\u001b[0m\u001b[0;34m[\u001b[0m\u001b[0;36m1\u001b[0m\u001b[0;34m]\u001b[0m\u001b[0;34m.\u001b[0m\u001b[0mtoarray\u001b[0m\u001b[0;34m(\u001b[0m\u001b[0;34m)\u001b[0m \u001b[0;34m-\u001b[0m \u001b[0mnp\u001b[0m\u001b[0;34m.\u001b[0m\u001b[0mround\u001b[0m\u001b[0;34m(\u001b[0m\u001b[0mpreds\u001b[0m\u001b[0;34m)\u001b[0m\u001b[0;34m)\u001b[0m\u001b[0;34m)\u001b[0m\u001b[0;34m\u001b[0m\u001b[0;34m\u001b[0m\u001b[0m\n\u001b[1;32m    115\u001b[0m         \u001b[0mgene_by_gene_performance\u001b[0m \u001b[0;34m=\u001b[0m \u001b[0mnp\u001b[0m\u001b[0;34m.\u001b[0m\u001b[0mmean\u001b[0m\u001b[0;34m(\u001b[0m\u001b[0mnp\u001b[0m\u001b[0;34m.\u001b[0m\u001b[0mabs\u001b[0m\u001b[0;34m(\u001b[0m\u001b[0mself\u001b[0m\u001b[0;34m.\u001b[0m\u001b[0mtest\u001b[0m\u001b[0;34m[\u001b[0m\u001b[0;36m1\u001b[0m\u001b[0;34m]\u001b[0m\u001b[0;34m.\u001b[0m\u001b[0mtoarray\u001b[0m\u001b[0;34m(\u001b[0m\u001b[0;34m)\u001b[0m \u001b[0;34m-\u001b[0m \u001b[0mnp\u001b[0m\u001b[0;34m.\u001b[0m\u001b[0mround\u001b[0m\u001b[0;34m(\u001b[0m\u001b[0mpreds\u001b[0m\u001b[0;34m)\u001b[0m\u001b[0;34m)\u001b[0m\u001b[0;34m,\u001b[0m \u001b[0maxis\u001b[0m\u001b[0;34m=\u001b[0m\u001b[0;36m0\u001b[0m\u001b[0;34m)\u001b[0m\u001b[0;34m\u001b[0m\u001b[0;34m\u001b[0m\u001b[0m\n",
            "\u001b[0;31mAttributeError\u001b[0m: 'NoneType' object has no attribute 'predict'"
          ]
        }
      ],
      "source": [
        "checking_dict[params.values] = search.evaluate_performance()[0]\n",
        "checking_dict[params.values]\n"
      ]
    },
    {
      "cell_type": "code",
      "execution_count": null,
      "metadata": {
        "colab": {
          "base_uri": "https://localhost:8080/"
        },
        "id": "5secdISjZDFP",
        "outputId": "36d9e559-78dd-47fc-dc49-214c5f8619e5"
      },
      "outputs": [
        {
          "output_type": "stream",
          "name": "stderr",
          "text": [
            "/usr/local/lib/python3.10/dist-packages/xgboost/core.py:160: UserWarning: [13:50:31] WARNING: /workspace/src/c_api/c_api.cc:1240: Saving into deprecated binary model format, please consider using `json` or `ubj`. Model format will default to JSON in XGBoost 2.2 if not specified.\n",
            "  warnings.warn(smsg, UserWarning)\n"
          ]
        }
      ],
      "source": [
        "search.trained_model.save_model('/content/drive/MyDrive/GeneCausality Search/trained_model.h5')"
      ]
    },
    {
      "cell_type": "code",
      "source": [
        "import xgboost as xgb\n",
        "model = xgb.Booster().load_model('/content/drive/MyDrive/GeneCausality Search/trained_model.h5')"
      ],
      "metadata": {
        "id": "H_-s7emmNQ9R"
      },
      "execution_count": null,
      "outputs": []
    },
    {
      "cell_type": "code",
      "source": [
        "type(xgb.Booster().load_model('/content/drive/MyDrive/GeneCausality Search/trained_model.h5'))"
      ],
      "metadata": {
        "colab": {
          "base_uri": "https://localhost:8080/"
        },
        "id": "mA1wrxbMN6Wm",
        "outputId": "9407ef50-cbc8-4ebd-acc3-8fcbc4aa1130"
      },
      "execution_count": null,
      "outputs": [
        {
          "output_type": "execute_result",
          "data": {
            "text/plain": [
              "NoneType"
            ]
          },
          "metadata": {},
          "execution_count": 33
        }
      ]
    },
    {
      "cell_type": "code",
      "source": [
        "search.trained_model = model"
      ],
      "metadata": {
        "id": "T97ACgzBNwSY"
      },
      "execution_count": null,
      "outputs": []
    },
    {
      "cell_type": "code",
      "execution_count": null,
      "metadata": {
        "colab": {
          "base_uri": "https://localhost:8080/"
        },
        "id": "r3xFzs3ur5sK",
        "outputId": "643c5aa2-6531-4393-9627-decac968ea59"
      },
      "outputs": [
        {
          "output_type": "stream",
          "name": "stderr",
          "text": [
            "/usr/local/lib/python3.10/dist-packages/xgboost/core.py:160: UserWarning: [13:24:31] WARNING: /workspace/src/learner.cc:742: \n",
            "Parameters: { \"n_estimators\" } are not used.\n",
            "\n",
            "  warnings.warn(smsg, UserWarning)\n"
          ]
        },
        {
          "output_type": "stream",
          "name": "stdout",
          "text": [
            "[13:24:31] INFO: /workspace/src/data/simple_dmatrix.cc:137: Generating new Ellpack page.\n"
          ]
        },
        {
          "output_type": "execute_result",
          "data": {
            "text/plain": [
              "(0.60371774,\n",
              "      Performance\n",
              " 0       2.861960\n",
              " 1       0.035072\n",
              " 2       0.023381\n",
              " 3       2.007644\n",
              " 4       0.702788\n",
              " ..           ...\n",
              " 209     0.161421\n",
              " 210     1.194694\n",
              " 211     1.084083\n",
              " 212     0.450989\n",
              " 213     0.358363\n",
              " \n",
              " [214 rows x 1 columns])"
            ]
          },
          "metadata": {},
          "execution_count": 14
        }
      ],
      "source": [
        "search.train_model(0.01,params)\n",
        "search.evaluate_performance()"
      ]
    },
    {
      "cell_type": "code",
      "source": [
        "search.evaluate_performance()"
      ],
      "metadata": {
        "colab": {
          "base_uri": "https://localhost:8080/",
          "height": 263
        },
        "id": "zH1F8k4JN0kK",
        "outputId": "d924c5cd-33b5-41fb-ef38-4dae23689f93"
      },
      "execution_count": null,
      "outputs": [
        {
          "output_type": "error",
          "ename": "AttributeError",
          "evalue": "'NoneType' object has no attribute 'predict'",
          "traceback": [
            "\u001b[0;31m---------------------------------------------------------------------------\u001b[0m",
            "\u001b[0;31mAttributeError\u001b[0m                            Traceback (most recent call last)",
            "\u001b[0;32m<ipython-input-28-556aa537da4a>\u001b[0m in \u001b[0;36m<cell line: 1>\u001b[0;34m()\u001b[0m\n\u001b[0;32m----> 1\u001b[0;31m \u001b[0msearch\u001b[0m\u001b[0;34m.\u001b[0m\u001b[0mevaluate_performance\u001b[0m\u001b[0;34m(\u001b[0m\u001b[0;34m)\u001b[0m\u001b[0;34m\u001b[0m\u001b[0;34m\u001b[0m\u001b[0m\n\u001b[0m",
            "\u001b[0;32m/content/drive/My Drive/GeneCausality Search/Gene_Causality.py\u001b[0m in \u001b[0;36mevaluate_performance\u001b[0;34m(self)\u001b[0m\n\u001b[1;32m    111\u001b[0m \u001b[0;34m\u001b[0m\u001b[0m\n\u001b[1;32m    112\u001b[0m     \u001b[0;32mdef\u001b[0m \u001b[0mevaluate_performance\u001b[0m\u001b[0;34m(\u001b[0m\u001b[0mself\u001b[0m\u001b[0;34m)\u001b[0m\u001b[0;34m:\u001b[0m\u001b[0;34m\u001b[0m\u001b[0;34m\u001b[0m\u001b[0m\n\u001b[0;32m--> 113\u001b[0;31m         \u001b[0mpreds\u001b[0m \u001b[0;34m=\u001b[0m \u001b[0mself\u001b[0m\u001b[0;34m.\u001b[0m\u001b[0mtrained_model\u001b[0m\u001b[0;34m.\u001b[0m\u001b[0mpredict\u001b[0m\u001b[0;34m(\u001b[0m\u001b[0mself\u001b[0m\u001b[0;34m.\u001b[0m\u001b[0mtest\u001b[0m\u001b[0;34m[\u001b[0m\u001b[0;36m0\u001b[0m\u001b[0;34m]\u001b[0m\u001b[0;34m)\u001b[0m\u001b[0;34m\u001b[0m\u001b[0;34m\u001b[0m\u001b[0m\n\u001b[0m\u001b[1;32m    114\u001b[0m         \u001b[0moverall_performance\u001b[0m \u001b[0;34m=\u001b[0m \u001b[0mnp\u001b[0m\u001b[0;34m.\u001b[0m\u001b[0mmean\u001b[0m\u001b[0;34m(\u001b[0m\u001b[0mnp\u001b[0m\u001b[0;34m.\u001b[0m\u001b[0mabs\u001b[0m\u001b[0;34m(\u001b[0m\u001b[0mself\u001b[0m\u001b[0;34m.\u001b[0m\u001b[0mtest\u001b[0m\u001b[0;34m[\u001b[0m\u001b[0;36m1\u001b[0m\u001b[0;34m]\u001b[0m\u001b[0;34m.\u001b[0m\u001b[0mtoarray\u001b[0m\u001b[0;34m(\u001b[0m\u001b[0;34m)\u001b[0m \u001b[0;34m-\u001b[0m \u001b[0mnp\u001b[0m\u001b[0;34m.\u001b[0m\u001b[0mround\u001b[0m\u001b[0;34m(\u001b[0m\u001b[0mpreds\u001b[0m\u001b[0;34m)\u001b[0m\u001b[0;34m)\u001b[0m\u001b[0;34m)\u001b[0m\u001b[0;34m\u001b[0m\u001b[0;34m\u001b[0m\u001b[0m\n\u001b[1;32m    115\u001b[0m         \u001b[0mgene_by_gene_performance\u001b[0m \u001b[0;34m=\u001b[0m \u001b[0mnp\u001b[0m\u001b[0;34m.\u001b[0m\u001b[0mmean\u001b[0m\u001b[0;34m(\u001b[0m\u001b[0mnp\u001b[0m\u001b[0;34m.\u001b[0m\u001b[0mabs\u001b[0m\u001b[0;34m(\u001b[0m\u001b[0mself\u001b[0m\u001b[0;34m.\u001b[0m\u001b[0mtest\u001b[0m\u001b[0;34m[\u001b[0m\u001b[0;36m1\u001b[0m\u001b[0;34m]\u001b[0m\u001b[0;34m.\u001b[0m\u001b[0mtoarray\u001b[0m\u001b[0;34m(\u001b[0m\u001b[0;34m)\u001b[0m \u001b[0;34m-\u001b[0m \u001b[0mnp\u001b[0m\u001b[0;34m.\u001b[0m\u001b[0mround\u001b[0m\u001b[0;34m(\u001b[0m\u001b[0mpreds\u001b[0m\u001b[0;34m)\u001b[0m\u001b[0;34m)\u001b[0m\u001b[0;34m,\u001b[0m \u001b[0maxis\u001b[0m\u001b[0;34m=\u001b[0m\u001b[0;36m0\u001b[0m\u001b[0;34m)\u001b[0m\u001b[0;34m\u001b[0m\u001b[0;34m\u001b[0m\u001b[0m\n",
            "\u001b[0;31mAttributeError\u001b[0m: 'NoneType' object has no attribute 'predict'"
          ]
        }
      ]
    },
    {
      "cell_type": "code",
      "execution_count": null,
      "metadata": {
        "id": "mt90e_pMT_PM"
      },
      "outputs": [],
      "source": [
        "from sklearn.model_selection import train_test_split\n",
        "train_test_split(search.tf_data, search.cam_data, test_size=5e-2)"
      ]
    },
    {
      "cell_type": "code",
      "execution_count": null,
      "metadata": {
        "colab": {
          "base_uri": "https://localhost:8080/"
        },
        "id": "oD1CRNlbOJP_",
        "outputId": "1edac2cc-4803-4afc-f6eb-767688a43a9d"
      },
      "outputs": [
        {
          "data": {
            "text/plain": [
              "(<222360x633 sparse matrix of type '<class 'numpy.int8'>'\n",
              " \twith 19414407 stored elements in Compressed Sparse Row format>,\n",
              " <222360x214 sparse matrix of type '<class 'numpy.int8'>'\n",
              " \twith 12077088 stored elements in Compressed Sparse Row format>)"
            ]
          },
          "execution_count": 14,
          "metadata": {},
          "output_type": "execute_result"
        }
      ],
      "source": [
        "\n",
        "search.tf_data,search.cam_data"
      ]
    },
    {
      "cell_type": "code",
      "execution_count": null,
      "metadata": {
        "id": "lflT88i4K4FI"
      },
      "outputs": [],
      "source": [
        "search.subset_data(**{'time':['48h'],'class':'N','type':['LPLC1','LPLC2']})"
      ]
    },
    {
      "cell_type": "code",
      "source": [
        "search.trained_model.predict(search.test[0])[:]"
      ],
      "metadata": {
        "colab": {
          "base_uri": "https://localhost:8080/"
        },
        "id": "HA87JYP5XSc4",
        "outputId": "32ec018e-ee00-488a-e56a-add49c6c69d7"
      },
      "execution_count": null,
      "outputs": [
        {
          "output_type": "execute_result",
          "data": {
            "text/plain": [
              "(571, 214)"
            ]
          },
          "metadata": {},
          "execution_count": 59
        }
      ]
    },
    {
      "cell_type": "code",
      "execution_count": null,
      "metadata": {
        "id": "QY8VprI5vh4s"
      },
      "outputs": [],
      "source": [
        "search.reset_analysis()"
      ]
    },
    {
      "cell_type": "code",
      "execution_count": null,
      "metadata": {
        "id": "-29pNMbSvh4t"
      },
      "outputs": [],
      "source": [
        "!watch -n1 nvidia-smi"
      ]
    },
    {
      "cell_type": "code",
      "execution_count": null,
      "metadata": {
        "id": "s_q79LVHvh4t"
      },
      "outputs": [],
      "source": [
        "plt.plot(range(214),np.mean(np.abs(np.round(search.trained_model.predict(search.test[0])) - search.test[1]),axis=0).reshape(214,1))"
      ]
    },
    {
      "cell_type": "code",
      "execution_count": null,
      "metadata": {
        "id": "1Xe6UMMDvh4u"
      },
      "outputs": [],
      "source": [
        "from sklearn.model_selection import GridSearchCV\n",
        "from xgboost import XGBRegressor\n",
        "X_train, X_test, y_train, y_test = train_test_split(search.tf_data.toarray(), search.cam_data.toarray(), test_size=5e-2)\n",
        "xgb_model = XGBRegressor(tree_method='hist',device='cuda', objective='reg:squarederror', verbosity=2,n_jobs=-1)\n",
        "grid_search = GridSearchCV(estimator=xgb_model, param_grid=param_grid, scoring='neg_mean_absolute_error', cv=2, verbose=2)\n",
        "grid_search.fit(X_train, y_train)"
      ]
    },
    {
      "cell_type": "code",
      "execution_count": null,
      "metadata": {
        "id": "OotKccEs23Vr"
      },
      "outputs": [],
      "source": []
    },
    {
      "cell_type": "code",
      "execution_count": null,
      "metadata": {
        "colab": {
          "base_uri": "https://localhost:8080/"
        },
        "id": "ja3P1oZevh4u",
        "outputId": "c87d656d-7587-4789-ab6f-c2b27951325b"
      },
      "outputs": [
        {
          "data": {
            "text/plain": [
              "{'colsample_bytree': 0.8,\n",
              " 'gamma': 0.4,\n",
              " 'learning_rate': 0.2,\n",
              " 'max_depth': 9,\n",
              " 'min_child_weight': 1,\n",
              " 'n_estimators': 300}"
            ]
          },
          "execution_count": 18,
          "metadata": {},
          "output_type": "execute_result"
        }
      ],
      "source": [
        "grid_search.best_params_"
      ]
    },
    {
      "cell_type": "code",
      "execution_count": null,
      "metadata": {
        "id": "SZ4G6n1svh4u"
      },
      "outputs": [],
      "source": [
        "param_grid = {\n",
        "    'n_estimators': [ 400]}"
      ]
    },
    {
      "cell_type": "code",
      "execution_count": null,
      "metadata": {
        "id": "78aYxYgDvh4u"
      },
      "outputs": [],
      "source": [
        "param_grid = {\n",
        "    'n_estimators': [ 100, 300],  # n_estimators included here\n",
        "    'max_depth': [ 6, 9],\n",
        "    'subsample': [0.8],\n",
        "    'learning_rate': [0.01,  0.2],\n",
        "    'gamma': [ 0.2, 0.4],\n",
        "    'min_child_weight': [1],\n",
        "    'colsample_bytree': [ 0.8]\n",
        "    # other parameters\n",
        "}"
      ]
    },
    {
      "cell_type": "code",
      "execution_count": null,
      "metadata": {
        "colab": {
          "base_uri": "https://localhost:8080/"
        },
        "id": "3SD2Cwqjs8fr",
        "outputId": "f6a2d034-1261-40ae-f0ad-b533ef7c0f85"
      },
      "outputs": [
        {
          "name": "stdout",
          "output_type": "stream",
          "text": [
            "Fitting 2 folds for each of 1 candidates, totalling 2 fits\n"
          ]
        }
      ],
      "source": [
        "from sklearn.model_selection import RandomizedSearchCV\n",
        "from sklearn.ensemble import RandomForestRegressor\n",
        "from scipy.stats import randint, uniform\n",
        "from xgboost import XGBRegressor\n",
        "from sklearn.model_selection import train_test_split\n",
        "X_train, X_test, y_train, y_test = train_test_split(search.tf_data.toarray(), search.cam_data.toarray(), test_size=5e-2)\n",
        "# Define the parameter space:\n",
        "\n",
        "# Define new parameter distributions around the best found values\n",
        "param_distributions = {\n",
        "    'n_estimators': randint(250, 350),  # Exploring around 300\n",
        "    'gamma': uniform(0.35, 0.1),  # Correctly exploring around 0.4\n",
        "    'min_child_weight': randint(1, 3),  # Exploring around 1\n",
        "    'max_depth': randint(7, 11),  # Exploring around 9\n",
        "    'subsample': uniform(0.75, 0.1),  # Correctly exploring values between 0.75 and 0.85\n",
        "    'colsample_bytree': uniform(0.75, 0.1),  #  Correctly exploring values between 0.75 and 0.85\n",
        "    'learning_rate': uniform(0.15, 0.25),  # Exploring around 0.15 to 0.4 (adjust if needed)\n",
        "}\n",
        "\n",
        "# Create the base model to tune:\n",
        "xgb_regressor = XGBRegressor(tree_method='hist', device='cuda', objective='reg:squarederror', eval_metric='mae', verbosity=2)\n",
        "\n",
        "# Set up the random search with 4-fold cross-validation:\n",
        "random_search = RandomizedSearchCV(estimator = xgb_regressor, param_distributions = param_distributions, n_iter = 1, cv = 2, verbose=3, random_state=42,n_jobs=-1)\n",
        "\n",
        "# Fit the random search model:\n",
        "random_search.fit(X_train, y_train)\n",
        "results = pd.DataFrame(random_search.cv_results_)\n",
        "\n",
        "# Selecting columns to save: you can adjust this list based on the information you want to keep\n",
        "columns_to_save = ['rank_test_score', 'mean_test_score', 'std_test_score', 'params']\n",
        "results_to_save = results[columns_to_save]\n",
        "\n",
        "# Save to CSV\n",
        "results_to_save.to_csv('/content/drive/MyDrive/GeneCausality Search/xgb_random_search_results.csv', index=False)"
      ]
    },
    {
      "cell_type": "code",
      "execution_count": null,
      "metadata": {
        "colab": {
          "base_uri": "https://localhost:8080/"
        },
        "id": "WW5wxvzJoqpw",
        "outputId": "2784ae3a-2ae9-4516-ce09-ba36e75366f8"
      },
      "outputs": [
        {
          "data": {
            "text/plain": [
              "{'mean_fit_time': array([744.16335773]),\n",
              " 'std_fit_time': array([0.23071003]),\n",
              " 'mean_score_time': array([26.00099039]),\n",
              " 'std_score_time': array([0.05366135]),\n",
              " 'param_colsample_bytree': masked_array(data=[0.7874540118847363],\n",
              "              mask=[False],\n",
              "        fill_value='?',\n",
              "             dtype=object),\n",
              " 'param_gamma': masked_array(data=[0.4450714306409916],\n",
              "              mask=[False],\n",
              "        fill_value='?',\n",
              "             dtype=object),\n",
              " 'param_learning_rate': masked_array(data=[0.33299848545285127],\n",
              "              mask=[False],\n",
              "        fill_value='?',\n",
              "             dtype=object),\n",
              " 'param_max_depth': masked_array(data=[7],\n",
              "              mask=[False],\n",
              "        fill_value='?',\n",
              "             dtype=object),\n",
              " 'param_min_child_weight': masked_array(data=[1],\n",
              "              mask=[False],\n",
              "        fill_value='?',\n",
              "             dtype=object),\n",
              " 'param_n_estimators': masked_array(data=[332],\n",
              "              mask=[False],\n",
              "        fill_value='?',\n",
              "             dtype=object),\n",
              " 'param_subsample': masked_array(data=[0.7599974915818003],\n",
              "              mask=[False],\n",
              "        fill_value='?',\n",
              "             dtype=object),\n",
              " 'params': [{'colsample_bytree': 0.7874540118847363,\n",
              "   'gamma': 0.4450714306409916,\n",
              "   'learning_rate': 0.33299848545285127,\n",
              "   'max_depth': 7,\n",
              "   'min_child_weight': 1,\n",
              "   'n_estimators': 332,\n",
              "   'subsample': 0.7599974915818003}],\n",
              " 'split0_test_score': array([0.34677748]),\n",
              " 'split1_test_score': array([0.3380345]),\n",
              " 'mean_test_score': array([0.34240599]),\n",
              " 'std_test_score': array([0.00437149]),\n",
              " 'rank_test_score': array([1], dtype=int32)}"
            ]
          },
          "execution_count": 36,
          "metadata": {},
          "output_type": "execute_result"
        }
      ],
      "source": [
        "random_search.cv_results_"
      ]
    },
    {
      "cell_type": "code",
      "execution_count": null,
      "metadata": {
        "id": "4j6eKa7a9s5j"
      },
      "outputs": [],
      "source": [
        "results = pd.DataFrame(random_search.cv_results_)\n",
        "\n",
        "# Selecting columns to save: you can adjust this list based on the information you want to keep\n",
        "columns_to_save = ['rank_test_score', 'mean_test_score', 'std_test_score', 'params']\n",
        "results_to_save = results[columns_to_save]\n",
        "\n",
        "# Save to CSV\n",
        "results_to_save.to_csv('/content/drive/MyDrive/GeneCausality Search/xgb_random_search_results.csv', index=False)"
      ]
    },
    {
      "cell_type": "code",
      "execution_count": null,
      "metadata": {
        "id": "r0mCVH9EvVLt"
      },
      "outputs": [],
      "source": [
        "params = {\n",
        "    'n_estimators': 300,\n",
        "    'gamma': 0.4,\n",
        "    'min_child_weight': 1,\n",
        "    'max_depth': 9,\n",
        "    'subsample': 0.8,\n",
        "    'colsample_bytree': 0.8,\n",
        "    'learning_rate': 0.2,\n",
        "    'verbosity':2,\n",
        "    'tree_method': 'hist',\n",
        "    'device': 'cuda',\n",
        "    'objective': 'reg:squarederror',  # Example for binary classification task\n",
        "    'eval_metric': 'mae'  # Example for binary classification task\n",
        "}"
      ]
    },
    {
      "cell_type": "code",
      "execution_count": null,
      "metadata": {
        "id": "JF9oxLHdDhCK"
      },
      "outputs": [],
      "source": [
        "params = {\n",
        "    'n_estimators': 300,\n",
        "    'gamma': 0.4,\n",
        "    'min_child_weight': 1,\n",
        "    'max_depth': 9,\n",
        "    'subsample': 0.8,\n",
        "    'colsample_bytree': 0.8,\n",
        "    'learning_rate': 0.2,\n",
        "    'verbosity':2,\n",
        "    'tree_method': 'hist',\n",
        "    'device': 'cuda',\n",
        "    'objective': 'reg:squarederror',  # Example for binary classification task\n",
        "    'eval_metric': 'mae'  # Example for binary classification task\n",
        "}"
      ]
    },
    {
      "cell_type": "code",
      "execution_count": null,
      "metadata": {
        "id": "3qfckRBIJNLK"
      },
      "outputs": [],
      "source": [
        "from sklearn.model_selection import GridSearchCV"
      ]
    },
    {
      "cell_type": "code",
      "execution_count": null,
      "metadata": {
        "id": "3DdoMIShvh4v"
      },
      "outputs": [],
      "source": [
        "np.mean(np.abs(search.test[1] - model.predict(search.test[0])),axis=0)"
      ]
    },
    {
      "cell_type": "code",
      "execution_count": null,
      "metadata": {
        "id": "dMRROSLWvh4v"
      },
      "outputs": [],
      "source": [
        "list(search.working_genes[search.working_genes.gene_name.str.lower().isin(search.tf_masterlist)].index)"
      ]
    },
    {
      "cell_type": "code",
      "execution_count": null,
      "metadata": {
        "id": "6wmkUGxZvh4v"
      },
      "outputs": [],
      "source": [
        "len(set(list(search.working_genes[search.working_genes.gene_name.str.lower().isin(search.cam_masterlist)].index)+list(search.working_genes[search.working_genes.gene_name.str.lower().isin(search.tf_masterlist)].index)))"
      ]
    },
    {
      "cell_type": "code",
      "execution_count": null,
      "metadata": {
        "id": "fvUt51Kgvh4v"
      },
      "outputs": [],
      "source": [
        "pd.read_csv('TF_List.csv').iloc[:,0].str.lower()"
      ]
    },
    {
      "cell_type": "code",
      "execution_count": null,
      "metadata": {
        "id": "PW0qzeZBvh4x"
      },
      "outputs": [],
      "source": [
        "[100, 200, 300, 400, 500]"
      ]
    },
    {
      "cell_type": "code",
      "execution_count": null,
      "metadata": {
        "id": "u3jZWZalvh4x"
      },
      "outputs": [],
      "source": [
        "search.working_genes"
      ]
    },
    {
      "cell_type": "code",
      "execution_count": null,
      "metadata": {
        "id": "MhfTeRmEvh4y"
      },
      "outputs": [],
      "source": [
        "pd.read_csv('features.tsv',names = ['fbname','gene_name','expression'],delimiter='\\t')"
      ]
    },
    {
      "cell_type": "code",
      "execution_count": null,
      "metadata": {
        "id": "jK6I4KOIvh4y"
      },
      "outputs": [],
      "source": [
        "search.working_genes"
      ]
    },
    {
      "cell_type": "code",
      "execution_count": null,
      "metadata": {
        "id": "vRrZTtcdvh4y"
      },
      "outputs": [],
      "source": [
        "search.working_data"
      ]
    },
    {
      "cell_type": "code",
      "execution_count": null,
      "metadata": {
        "id": "Gj2OCwOcvh4y"
      },
      "outputs": [],
      "source": []
    }
  ],
  "metadata": {
    "accelerator": "GPU",
    "colab": {
      "gpuType": "T4",
      "machine_shape": "hm",
      "provenance": [],
      "include_colab_link": true
    },
    "kernelspec": {
      "display_name": "Python 3",
      "name": "python3"
    },
    "language_info": {
      "codemirror_mode": {
        "name": "ipython",
        "version": 3
      },
      "file_extension": ".py",
      "mimetype": "text/x-python",
      "name": "python",
      "nbconvert_exporter": "python",
      "pygments_lexer": "ipython3",
      "version": "3.11.5"
    }
  },
  "nbformat": 4,
  "nbformat_minor": 0
}